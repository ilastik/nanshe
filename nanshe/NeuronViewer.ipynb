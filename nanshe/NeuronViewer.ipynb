{
 "metadata": {
  "name": "",
  "signature": "sha256:1630887f8aa059282525f74cd18d254b061d55e4019f2e9799fb9e436a54260d"
 },
 "nbformat": 3,
 "nbformat_minor": 0,
 "worksheets": [
  {
   "cells": [
    {
     "cell_type": "code",
     "collapsed": false,
     "input": [
      "import os\n",
      "\n",
      "import h5py\n",
      "import numpy\n",
      "import scipy\n",
      "\n",
      "import scipy.ndimage\n",
      "import scipy.ndimage.morphology\n",
      "\n",
      "import matplotlib\n",
      "import matplotlib.pyplot\n",
      "\n",
      "\n",
      "import matplotlib as mpl\n",
      "import matplotlib.pyplot as plt\n",
      "\n",
      "import os\n",
      "import h5py as h5\n",
      "import numpy as np\n",
      "import scipy as sp\n",
      "\n",
      "import expanded_numpy\n",
      "\n",
      "\n",
      "import expanded_numpy as enp\n",
      "\n",
      "\n",
      "import neuron_matplotlib_viewer"
     ],
     "language": "python",
     "metadata": {},
     "outputs": [],
     "prompt_number": 3
    },
    {
     "cell_type": "code",
     "collapsed": false,
     "input": [
      "hdf5_data_name = os.path.relpath(\"../../data_test/data_invitro_susanne_images.h5\")\n",
      "\n",
      "hdf5_data = h5.File(hdf5_data_name, 'r')\n",
      "\n",
      "images = hdf5_data[\"images\"][()]\n",
      "#dictionary = hdf5_data[\"frames_ADINA_results\"][\"frame_0\"][\"dictionary\"].copy()\n",
      "\n",
      "#hdf5_data.close()"
     ],
     "language": "python",
     "metadata": {},
     "outputs": [],
     "prompt_number": 6
    },
    {
     "cell_type": "code",
     "collapsed": false,
     "input": [
      "#hdf5_data_name = os.path.relpath(\"./data_test/data_invitro_susanne.h5\")\n",
      "\n",
      "#hdf5_data = h5.File(hdf5_data_name, 'r')\n",
      "\n",
      "#images = hdf5_data[\"ADINA_results\"][\"images\"][\"original_data\"].copy()\n",
      "#dictionary = hdf5_data[\"ADINA_results\"][\"images\"][\"dictionary\"].copy()\n",
      "\n",
      "#hdf5_data.close()"
     ],
     "language": "python",
     "metadata": {},
     "outputs": [],
     "prompt_number": 3
    },
    {
     "cell_type": "code",
     "collapsed": false,
     "input": [
      "#hdf5_data_name = os.path.relpath(\"./data_test_2/Svoboda_Image_Registration_4_an229716_2013_12_01_main.h5\")\n",
      "#\n",
      "#hdf5_data = h5.File(hdf5_data_name, 'r')\n",
      "#\n",
      "#images = hdf5_data[\"ADINA_results\"][\"Image_Registration_4_an229716_2013_12_01_main\"][\"original_data\"].copy()\n",
      "#results = hdf5_data[\"ADINA_results\"][\"Image_Registration_4_an229716_2013_12_01_main\"][\"dictionary\"].copy()\n",
      "#\n",
      "#hdf5_data.close()"
     ],
     "language": "python",
     "metadata": {},
     "outputs": [],
     "prompt_number": 4
    },
    {
     "cell_type": "code",
     "collapsed": false,
     "input": [
      "dictionary[dictionary != 0]"
     ],
     "language": "python",
     "metadata": {},
     "outputs": [
      {
       "metadata": {},
       "output_type": "pyout",
       "prompt_number": 5,
       "text": [
        "array([  1.76679361e-04,   1.13491626e-04,   7.45368976e-04, ...,\n",
        "         8.38855429e-04,   3.58841278e-05,   1.96478388e-04])"
       ]
      }
     ],
     "prompt_number": 5
    },
    {
     "cell_type": "code",
     "collapsed": false,
     "input": [
      "with h5.File(hdf5_data_name, 'r') as hdf5_data:\n",
      "    print hdf5_data[\"ADINA_results\"][\"images\"][\"debug\"][\"neuron_sets\"][\"01\"].keys()"
     ],
     "language": "python",
     "metadata": {},
     "outputs": [
      {
       "output_type": "stream",
       "stream": "stdout",
       "text": [
        "[u'centroid_active_label_image_0', u'centroid_active_label_image_1', u'centroid_active_label_image_2', u'centroid_label_image_0', u'centroid_label_image_1', u'centroid_label_image_2', u'extended_region_props_0', u'extended_region_props_1', u'intensity_image_0', u'intensity_image_1', u'intensity_image_2', u'neurons', u'new_neuron_set', u'new_neuron_set_2', u'watershed_local_maxima_count_0', u'watershed_local_maxima_count_1', u'watershed_local_maxima_count_2', u'watershed_local_maxima_label_image_0', u'watershed_local_maxima_label_image_1', u'watershed_local_maxima_label_image_2', u'watershed_local_maxima_props_0', u'watershed_local_maxima_props_1', u'watershed_local_maxima_props_2', u'watershed_segmentation']\n"
       ]
      }
     ],
     "prompt_number": 10
    },
    {
     "cell_type": "code",
     "collapsed": false,
     "input": [
      "#hdf5_data_name = os.path.relpath(\"./data_test/data_invitro_susanne_debug.h5\")\n",
      "#hdf5_data_name = os.path.relpath(\"./data_test/Image_Registration_4_an229716_2013_12_01_main_001.h5\")\n",
      "hdf5_data_name = os.path.relpath(\"./data_test/test_data.h5\")\n",
      "\n",
      "with h5.File(hdf5_data_name, 'r') as hdf5_data:\n",
      "    images = numpy.array(hdf5_data[\"ADINA_results\"][\"images\"][\"original_data\"][:]).copy()\n",
      "    dictionary = numpy.array(hdf5_data[\"ADINA_results\"][\"images\"][\"debug\"][\"dictionary\"][:]).copy()\n",
      "    #centroid_label_image_0 = numpy.array(hdf5_data[\"ADINA_results\"][\"images\"][\"debug\"][\"centroid_label_image_0\"][:]).copy()\n",
      "    #centroid_label_image_1 = numpy.array(hdf5_data[\"ADINA_results\"][\"images\"][\"debug\"][\"centroid_label_image_1\"][:]).copy()\n",
      "    #centroid_label_image_2 = numpy.array(hdf5_data[\"ADINA_results\"][\"images\"][\"debug\"][\"centroid_label_image_2\"][:]).copy()\n",
      "    #centroid_active_label_image_0 = numpy.array(hdf5_data[\"ADINA_results\"][\"images\"][\"debug\"][\"centroid_active_label_image_0\"][:]).copy()\n",
      "    #centroid_active_label_image_1 = numpy.array(hdf5_data[\"ADINA_results\"][\"images\"][\"debug\"][\"centroid_active_label_image_1\"][:]).copy()\n",
      "    #centroid_active_label_image_2 = numpy.array(hdf5_data[\"ADINA_results\"][\"images\"][\"debug\"][\"centroid_active_label_image_2\"][:]).copy()\n",
      "    neurons = numpy.array(hdf5_data[\"ADINA_results\"][\"images\"][\"neurons\"][:]).copy()"
     ],
     "language": "python",
     "metadata": {},
     "outputs": [],
     "prompt_number": 2
    },
    {
     "cell_type": "code",
     "collapsed": false,
     "input": [
      "with h5.File(hdf5_data_name, 'r') as hdf5_data:\n",
      "    print hdf5_data[\"ADINA_results\"][\"images\"][\"debug\"].keys()"
     ],
     "language": "python",
     "metadata": {},
     "outputs": [
      {
       "output_type": "stream",
       "stream": "stdout",
       "text": [
        "[u'dictionary', u'neuron_sets', u'new_images', u'new_preprocessed_images']\n"
       ]
      }
     ],
     "prompt_number": 10
    },
    {
     "cell_type": "code",
     "collapsed": false,
     "input": [
      "with h5.File(hdf5_data_name, 'r') as hdf5_data:\n",
      "    sub_group = hdf5_data[\"ADINA_results\"][\"images\"][\"debug\"][\"neuron_sets\"]\n",
      "    for each_key in sub_group:\n",
      "        if len(hdf5_data[\"ADINA_results\"][\"images\"][\"debug\"][\"neuron_sets\"][each_key].keys()):\n",
      "            print each_key"
     ],
     "language": "python",
     "metadata": {},
     "outputs": [],
     "prompt_number": 9
    },
    {
     "cell_type": "code",
     "collapsed": false,
     "input": [
      "with h5.File(hdf5_data_name, 'r') as hdf5_data:\n",
      "    sub_group = hdf5_data[\"ADINA_results\"][\"images\"][\"debug\"][\"neuron_sets\"]\n",
      "    for each_key in sub_group.keys():\n",
      "        if (\"extended_region_props_0\" in sub_group[each_key]) and (len(sub_group[each_key][\"extended_region_props_0\"].keys())):\n",
      "            print each_key, sub_group[each_key][\"extended_region_props_0\"].keys()"
     ],
     "language": "python",
     "metadata": {},
     "outputs": [
      {
       "output_type": "stream",
       "stream": "stdout",
       "text": [
        "18 [u'1402013008.28']\n",
        "22 [u'1402013012.09']\n",
        "33 [u'1402013022.9']\n",
        "38 [u'1402013029.0']\n",
        "41 [u'1402013033.91']\n",
        "45 [u'1402013039.96']\n",
        "56 [u'1402013057.44']\n",
        "62 [u'1402013066.02']\n",
        "65 [u'1402013071.55']\n",
        "75 [u'1402013084.39']\n",
        "84 [u'1402013094.19']\n",
        "96 [u'1402013111.87']\n"
       ]
      }
     ],
     "prompt_number": 26
    },
    {
     "cell_type": "code",
     "collapsed": false,
     "input": [
      "with h5.File(hdf5_data_name, 'r') as hdf5_data:\n",
      "    print hdf5_data[\"ADINA_results\"][\"images\"][\"debug\"][\"neuron_sets\"][\"18\"][\"extended_region_props_0\"][\"1402013008.28\"][\"props\"][:]\n",
      "    print hdf5_data[\"ADINA_results\"][\"images\"][\"debug\"][\"neuron_sets\"][\"18\"][\"extended_region_props_0\"][\"1402013008.28\"][\"masks_labels\"][:]\n",
      "    print hdf5_data[\"ADINA_results\"][\"images\"][\"debug\"][\"neuron_sets\"][\"18\"][\"extended_region_props_0\"][\"1402013008.28\"][\"masks\"][0].nonzero()"
     ],
     "language": "python",
     "metadata": {},
     "outputs": [
      {
       "output_type": "stream",
       "stream": "stdout",
       "text": [
        "[ (1, [93.71641791044776, 65.83955223880596], [95, 66], 0.002192320302128792)\n",
        " (2, [114.25862068965517, 42.945402298850574], [114, 43], 0.003569990396499634)\n",
        " (4, [156.92546583850933, 94.48861283643892], [158, 94], 0.0036823879927396774)\n",
        " (5, [165.59619450317126, 145.276955602537], [166, 145], 0.009450217708945274)\n",
        " (6, [204.99005964214712, 222.02982107355865], [206, 219], 0.00618751160800457)\n",
        " (7, [232.22095671981776, 174.07744874715263], [232, 175], 0.004157113842666149)\n",
        " (8, [242.29548387096773, 264.0064516129032], [238, 251], 0.002832339145243168)\n",
        " (8, [242.29548387096773, 264.0064516129032], [244, 278], 0.0038348501548171043)\n",
        " (8, [242.29548387096773, 264.0064516129032], [245, 264], 0.0038104047998785973)\n",
        " (9, [258.5270935960591, 228.23152709359607], [259, 230], 0.0025694300420582294)\n",
        " (10, [294.9154929577465, 288.8845070422535], [292, 304], 0.004436804912984371)\n",
        " (10, [294.9154929577465, 288.8845070422535], [300, 271], 0.0017877109348773956)\n",
        " (11, [342.60526315789474, 193.96315789473684], [343, 194], 0.0015322878025472164)\n",
        " (12, [381.0, 149.0], [381, 149], 0.0010310143698006868)\n",
        " (13, [392.09090909090907, 156.36363636363637], [392, 156], 0.0010617163497954607)]\n",
        "[3]\n",
        "(array([143, 143, 143, 143, 143, 143, 144, 144, 144, 144, 144, 144, 144,\n",
        "       144, 144, 145, 145, 145, 145, 145, 145, 145, 145, 145, 145, 145,\n",
        "       146, 146, 146, 146, 146, 146, 146, 146, 146, 146, 146, 146, 147,\n",
        "       147, 147, 147, 147, 147, 147, 147, 147, 147, 147, 147, 147, 148,\n",
        "       148, 148, 148, 148, 148, 148, 148, 148, 148, 148, 148, 148, 148,\n",
        "       149, 149, 149, 149, 149, 149, 149, 149, 149, 149, 149, 149, 149,\n",
        "       149, 149, 150, 150, 150, 150, 150, 150, 150, 150, 150, 150, 150,\n",
        "       150, 150, 150, 150, 151, 151, 151, 151, 151, 151, 151, 151, 151,\n",
        "       151, 151, 151, 151, 151, 151, 152, 152, 152, 152, 152, 152, 152,\n",
        "       152, 152, 152, 152, 152, 152, 152, 152, 152, 153, 153, 153, 153,\n",
        "       153, 153, 153, 153, 153, 153, 153, 153, 153, 153, 153, 153, 154,\n",
        "       154, 154, 154, 154, 154, 154, 154, 154, 154, 154, 154, 154, 154,\n",
        "       154, 154, 155, 155, 155, 155, 155, 155, 155, 155, 155, 155, 155,\n",
        "       155, 155, 155, 155, 156, 156, 156, 156, 156, 156, 156, 156, 156,\n",
        "       156, 156, 156, 156, 156, 156, 157, 157, 157, 157, 157, 157, 157,\n",
        "       157, 157, 157, 157, 157, 157, 157, 157, 158, 158, 158, 158, 158,\n",
        "       158, 158, 158, 158, 158, 158, 158, 158, 158, 159, 159, 159, 159,\n",
        "       159, 159, 159, 159, 159, 159, 159, 159, 159, 159, 160, 160, 160,\n",
        "       160, 160, 160, 160, 160, 160, 160, 160, 160, 160, 161, 161, 161,\n",
        "       161, 161, 161, 161, 161, 161, 161, 161, 161, 162, 162, 162, 162,\n",
        "       162, 162, 162, 162, 162, 162, 162, 163, 163, 163, 163, 163, 163,\n",
        "       163, 163, 163, 164, 164, 164, 164, 164, 164, 164, 164, 165, 165,\n",
        "       165, 165, 165]), array([ 0,  1,  2,  3,  4,  5,  0,  1,  2,  3,  4,  5,  6,  7,  8,  0,  1,\n",
        "        2,  3,  4,  5,  6,  7,  8,  9, 10,  0,  1,  2,  3,  4,  5,  6,  7,\n",
        "        8,  9, 10, 11,  0,  1,  2,  3,  4,  5,  6,  7,  8,  9, 10, 11, 12,\n",
        "        0,  1,  2,  3,  4,  5,  6,  7,  8,  9, 10, 11, 12, 13,  0,  1,  2,\n",
        "        3,  4,  5,  6,  7,  8,  9, 10, 11, 12, 13, 14,  0,  1,  2,  3,  4,\n",
        "        5,  6,  7,  8,  9, 10, 11, 12, 13, 14,  0,  1,  2,  3,  4,  5,  6,\n",
        "        7,  8,  9, 10, 11, 12, 13, 14,  0,  1,  2,  3,  4,  5,  6,  7,  8,\n",
        "        9, 10, 11, 12, 13, 14, 15,  0,  1,  2,  3,  4,  5,  6,  7,  8,  9,\n",
        "       10, 11, 12, 13, 14, 15,  0,  1,  2,  3,  4,  5,  6,  7,  8,  9, 10,\n",
        "       11, 12, 13, 14, 15,  0,  1,  2,  3,  4,  5,  6,  7,  8,  9, 10, 11,\n",
        "       12, 13, 14,  0,  1,  2,  3,  4,  5,  6,  7,  8,  9, 10, 11, 12, 13,\n",
        "       14,  0,  1,  2,  3,  4,  5,  6,  7,  8,  9, 10, 11, 12, 13, 14,  0,\n",
        "        1,  2,  3,  4,  5,  6,  7,  8,  9, 10, 11, 12, 13,  0,  1,  2,  3,\n",
        "        4,  5,  6,  7,  8,  9, 10, 11, 12, 13,  0,  1,  2,  3,  4,  5,  6,\n",
        "        7,  8,  9, 10, 11, 12,  0,  1,  2,  3,  4,  5,  6,  7,  8,  9, 10,\n",
        "       11,  0,  1,  2,  3,  4,  5,  6,  7,  8,  9, 10,  0,  1,  2,  3,  4,\n",
        "        5,  6,  7,  8,  0,  1,  2,  3,  4,  5,  6,  7,  0,  1,  2,  3,  4]))\n"
       ]
      }
     ],
     "prompt_number": 35
    },
    {
     "cell_type": "code",
     "collapsed": false,
     "input": [
      "images.shape"
     ],
     "language": "python",
     "metadata": {},
     "outputs": [
      {
       "metadata": {},
       "output_type": "pyout",
       "prompt_number": 3,
       "text": [
        "(71, 512, 512)"
       ]
      }
     ],
     "prompt_number": 3
    },
    {
     "cell_type": "code",
     "collapsed": false,
     "input": [
      "neurons_image_original = neurons[\"image_original\"]"
     ],
     "language": "python",
     "metadata": {},
     "outputs": [],
     "prompt_number": 4
    },
    {
     "cell_type": "code",
     "collapsed": false,
     "input": [
      "images_max = np.amax(images, axis = 0)\n",
      "\n",
      "dictionary_max = np.amax(dictionary, axis = 0)\n",
      "\n",
      "neurons_image_original_max = np.amax(neurons_image_original, axis = 0)"
     ],
     "language": "python",
     "metadata": {},
     "outputs": [],
     "prompt_number": 5
    },
    {
     "cell_type": "code",
     "collapsed": false,
     "input": [
      "def generate_type_keys(hdf5_data, internal_path, type_op):\n",
      "    for each_key in hdf5_data[internal_path]:\n",
      "        try:\n",
      "            each_value = type_op(each_key)\n",
      "            yield( (each_key, each_value) )\n",
      "        except ValueError:\n",
      "            pass"
     ],
     "language": "python",
     "metadata": {},
     "outputs": [],
     "prompt_number": 5
    },
    {
     "cell_type": "code",
     "collapsed": false,
     "input": [
      "def generate_item_selection_list(hdf5_data_name, internal_path, selection_key):\n",
      "    list_item_selection = []\n",
      "    \n",
      "    with h5.File(hdf5_data_name, 'r') as hdf5_data:\n",
      "        for each_key in hdf5_data[internal_path]:\n",
      "            if selection_key in hdf5_data[internal_path][each_key]:\n",
      "                list_item_selection.append(hdf5_data[internal_path][each_key][selection_key][:])\n",
      "            else:\n",
      "                list_item_selection.append(None)\n",
      "    \n",
      "    return(list_item_selection)"
     ],
     "language": "python",
     "metadata": {},
     "outputs": [],
     "prompt_number": 6
    },
    {
     "cell_type": "code",
     "collapsed": false,
     "input": [
      "def generate_image_selection_array(hdf5_data_name, internal_path, selection_key, expected_frame_shape):\n",
      "    list_image_selection = []\n",
      "    \n",
      "    with h5.File(hdf5_data_name, 'r') as hdf5_data:\n",
      "        for each_key in hdf5_data[internal_path]:\n",
      "            if selection_key in hdf5_data[internal_path][each_key]:\n",
      "                assert(hdf5_data[internal_path][each_key][selection_key].shape == expected_frame_shape)\n",
      "                \n",
      "                list_image_selection.append(hdf5_data[internal_path][each_key][selection_key][:])\n",
      "            else:\n",
      "                list_image_selection.append(numpy.zeros(expected_frame_shape))\n",
      "    \n",
      "    image_selection_array = numpy.array(list_image_selection)\n",
      "    \n",
      "    return(image_selection_array)"
     ],
     "language": "python",
     "metadata": {},
     "outputs": [],
     "prompt_number": 7
    },
    {
     "cell_type": "code",
     "collapsed": false,
     "input": [
      "def array_shape(new_array):\n",
      "    if new_array is not None:\n",
      "        return(new_array.shape)\n",
      "    else:\n",
      "        return(tuple())"
     ],
     "language": "python",
     "metadata": {},
     "outputs": [],
     "prompt_number": 8
    },
    {
     "cell_type": "code",
     "collapsed": false,
     "input": [
      "neuron_masks_transformed = numpy.zeros(neurons[\"mask\"].shape, dtype = float)\n",
      "\n",
      "for i in xrange(len(neurons[\"mask\"])):\n",
      "    neuron_masks_transformed[i] = scipy.ndimage.morphology.distance_transform_edt(neurons[\"mask\"][i] > 0)"
     ],
     "language": "python",
     "metadata": {},
     "outputs": [],
     "prompt_number": 9
    },
    {
     "cell_type": "code",
     "collapsed": false,
     "input": [
      "threshold = 1\n",
      "\n",
      "thickness = 1\n",
      "half_thickness = thickness / 2\n",
      "\n",
      "lower_threshold = threshold - half_thickness\n",
      "\n",
      "upper_threshold = threshold + half_thickness\n",
      "\n",
      "\n",
      "neuron_masks_transformed_threshold = ( (lower_threshold <= neuron_masks_transformed) & (neuron_masks_transformed <= upper_threshold) )\n",
      "\n",
      "neuron_masks_transformed_threshold_max = (anp.expand_view(np.arange(1, 1 + len(neuron_masks_transformed_threshold)), reps_after = neuron_masks_transformed_threshold.shape[1:]) * neuron_masks_transformed_threshold).sum(axis = 0)"
     ],
     "language": "python",
     "metadata": {},
     "outputs": [],
     "prompt_number": 10
    },
    {
     "cell_type": "code",
     "collapsed": false,
     "input": [
      "neuron_masks_transformed_threshold_max_and_images_max = neuron_masks_transformed_threshold_max.astype(float)\n",
      "neuron_masks_transformed_threshold_max_and_images_max /= (neuron_masks_transformed_threshold_max_and_images_max.max() - neuron_masks_transformed_threshold_max_and_images_max.min())\n",
      "neuron_masks_transformed_threshold_max_and_images_max *= (images_max.max() - images_max.min())\n",
      "neuron_masks_transformed_threshold_max_and_images_max += images_max"
     ],
     "language": "python",
     "metadata": {},
     "outputs": [],
     "prompt_number": 11
    },
    {
     "cell_type": "code",
     "collapsed": false,
     "input": [
      "neuron_masks_transformed_threshold_max_and_dictionary_max = neuron_masks_transformed_threshold_max.astype(float)\n",
      "neuron_masks_transformed_threshold_max_and_dictionary_max /= (neuron_masks_transformed_threshold_max_and_dictionary_max.max() - neuron_masks_transformed_threshold_max_and_dictionary_max.min())\n",
      "neuron_masks_transformed_threshold_max_and_dictionary_max *= (dictionary_max.max() - dictionary_max.min())\n",
      "neuron_masks_transformed_threshold_max_and_dictionary_max += dictionary_max"
     ],
     "language": "python",
     "metadata": {},
     "outputs": [],
     "prompt_number": 12
    },
    {
     "cell_type": "code",
     "collapsed": false,
     "input": [
      "plt.imshow(neuron_masks_transformed_threshold_max_and_images_max)\n",
      "plt.show()"
     ],
     "language": "python",
     "metadata": {},
     "outputs": [],
     "prompt_number": 13
    },
    {
     "cell_type": "code",
     "collapsed": false,
     "input": [
      "plt.imshow(neuron_masks_transformed_threshold_max_and_dictionary_max)\n",
      "plt.show()"
     ],
     "language": "python",
     "metadata": {},
     "outputs": [],
     "prompt_number": 20
    },
    {
     "cell_type": "code",
     "collapsed": false,
     "input": [
      "fig, ax = plt.subplots(1)\n",
      "\n",
      "ax.imshow(neurons_image_original_max)\n",
      "ax.imshow(neuron_masks_transformed_threshold_max)\n",
      "\n",
      "plt.show()"
     ],
     "language": "python",
     "metadata": {},
     "outputs": [],
     "prompt_number": 18
    },
    {
     "cell_type": "code",
     "collapsed": false,
     "input": [
      "s = (512, 512, 142, 1)"
     ],
     "language": "python",
     "metadata": {},
     "outputs": [],
     "prompt_number": 28
    },
    {
     "cell_type": "code",
     "collapsed": false,
     "input": [
      "import vigra\n",
      "import vigra.impex\n",
      "\n",
      "data = vigra.impex.readVolume(\"./data_test/Image_Registration_4_an229716_2013_12_01_main_001.tif\")\n",
      "data = data.view(numpy.ndarray)\n",
      "data = data.reshape(data.shape[0:2] + (2, data.shape[2]/2,) )\n",
      "data = vigra.taggedView(data, \"xyct\")\n",
      "data = data.withAxes('c', 't', 'x', 'y')"
     ],
     "language": "python",
     "metadata": {},
     "outputs": [],
     "prompt_number": 28
    },
    {
     "cell_type": "code",
     "collapsed": false,
     "input": [
      "data.shape"
     ],
     "language": "python",
     "metadata": {},
     "outputs": [
      {
       "metadata": {},
       "output_type": "pyout",
       "prompt_number": 29,
       "text": [
        "(2, 71, 512, 512)"
       ]
      }
     ],
     "prompt_number": 29
    },
    {
     "cell_type": "code",
     "collapsed": false,
     "input": [
      "fig_images = plt.figure(0, FigureClass=neuron_viewer.NeuronViewer)\n",
      "fig_images.set_images(data[0])\n",
      "fig_images.show()\n",
      "\n",
      "plt.show()"
     ],
     "language": "python",
     "metadata": {},
     "outputs": [],
     "prompt_number": 30
    },
    {
     "cell_type": "code",
     "collapsed": false,
     "input": [
      "data[0].shape"
     ],
     "language": "python",
     "metadata": {},
     "outputs": [
      {
       "metadata": {},
       "output_type": "pyout",
       "prompt_number": 18,
       "text": [
        "(512, 71, 2)"
       ]
      }
     ],
     "prompt_number": 18
    },
    {
     "cell_type": "code",
     "collapsed": false,
     "input": [],
     "language": "python",
     "metadata": {},
     "outputs": [
      {
       "metadata": {},
       "output_type": "pyout",
       "prompt_number": 37,
       "text": [
        "(2, 71, 512, 512)"
       ]
      }
     ],
     "prompt_number": 37
    },
    {
     "cell_type": "code",
     "collapsed": false,
     "input": [
      "s[0:2] + (s[2]/2, 2, )"
     ],
     "language": "python",
     "metadata": {},
     "outputs": [
      {
       "metadata": {},
       "output_type": "pyout",
       "prompt_number": 31,
       "text": [
        "(512, 512, 71, 2)"
       ]
      }
     ],
     "prompt_number": 31
    },
    {
     "cell_type": "code",
     "collapsed": false,
     "input": [
      "new_images = images.reshape((2, images.shape[0]/2,) + images.shape[1:3])[0]"
     ],
     "language": "python",
     "metadata": {},
     "outputs": [],
     "prompt_number": 40
    },
    {
     "cell_type": "code",
     "collapsed": false,
     "input": [
      "fig_images = plt.figure(0, FigureClass=neuron_matplotlib_viewer.NeuronMatplotlibViewer)\n",
      "fig_images.set_images(images)\n",
      "fig_images.show()\n",
      "\n",
      "plt.show()"
     ],
     "language": "python",
     "metadata": {},
     "outputs": [],
     "prompt_number": 9
    },
    {
     "cell_type": "code",
     "collapsed": false,
     "input": [
      "fig_images = plt.figure(0, FigureClass=neuron_viewer.NeuronViewer)\n",
      "fig_images.set_images(images)\n",
      "fig_images.show()\n",
      "\n",
      "fig_dictionary = plt.figure(1, FigureClass=neuron_viewer.NeuronViewer)\n",
      "fig_dictionary.set_images(dictionary)\n",
      "fig_dictionary.show()\n",
      "\n",
      "plt.show()"
     ],
     "language": "python",
     "metadata": {},
     "outputs": [
      {
       "ename": "NameError",
       "evalue": "name 'dictionary' is not defined",
       "output_type": "pyerr",
       "traceback": [
        "\u001b[0;31m---------------------------------------------------------------------------\u001b[0m\n\u001b[0;31mNameError\u001b[0m                                 Traceback (most recent call last)",
        "\u001b[0;32m<ipython-input-4-2874bb6f736f>\u001b[0m in \u001b[0;36m<module>\u001b[0;34m()\u001b[0m\n\u001b[1;32m      4\u001b[0m \u001b[0;34m\u001b[0m\u001b[0m\n\u001b[1;32m      5\u001b[0m \u001b[0mfig_dictionary\u001b[0m \u001b[0;34m=\u001b[0m \u001b[0mplt\u001b[0m\u001b[0;34m.\u001b[0m\u001b[0mfigure\u001b[0m\u001b[0;34m(\u001b[0m\u001b[0;36m1\u001b[0m\u001b[0;34m,\u001b[0m \u001b[0mFigureClass\u001b[0m\u001b[0;34m=\u001b[0m\u001b[0mneuron_viewer\u001b[0m\u001b[0;34m.\u001b[0m\u001b[0mNeuronViewer\u001b[0m\u001b[0;34m)\u001b[0m\u001b[0;34m\u001b[0m\u001b[0m\n\u001b[0;32m----> 6\u001b[0;31m \u001b[0mfig_dictionary\u001b[0m\u001b[0;34m.\u001b[0m\u001b[0mset_images\u001b[0m\u001b[0;34m(\u001b[0m\u001b[0mdictionary\u001b[0m\u001b[0;34m)\u001b[0m\u001b[0;34m\u001b[0m\u001b[0m\n\u001b[0m\u001b[1;32m      7\u001b[0m \u001b[0mfig_dictionary\u001b[0m\u001b[0;34m.\u001b[0m\u001b[0mshow\u001b[0m\u001b[0;34m(\u001b[0m\u001b[0;34m)\u001b[0m\u001b[0;34m\u001b[0m\u001b[0m\n\u001b[1;32m      8\u001b[0m \u001b[0;34m\u001b[0m\u001b[0m\n",
        "\u001b[0;31mNameError\u001b[0m: name 'dictionary' is not defined"
       ]
      }
     ],
     "prompt_number": 4
    },
    {
     "cell_type": "code",
     "collapsed": false,
     "input": [
      "fig_images = plt.figure(0, FigureClass=neuron_viewer.NeuronViewer)\n",
      "fig_images.set_images(images)\n",
      "fig_images.show()\n",
      "\n",
      "fig_dictionary = plt.figure(1, FigureClass=neuron_viewer.NeuronViewer)\n",
      "fig_dictionary.set_images(dictionary)\n",
      "fig_dictionary.show()\n",
      "\n",
      "fig_neurons_image_original = plt.figure(2, FigureClass=neuron_viewer.NeuronViewer)\n",
      "fig_neurons_image_original.set_images(neurons_image_original)\n",
      "fig_neurons_image_original.show()\n",
      "\n",
      "\n",
      "fig_images_max = plt.figure(10, FigureClass=neuron_viewer.NeuronViewer)\n",
      "fig_images_max.set_images(images_max)\n",
      "fig_images_max.show()\n",
      "\n",
      "fig_dictionary_max = plt.figure(11, FigureClass=neuron_viewer.NeuronViewer)\n",
      "fig_dictionary_max.set_images(dictionary_max)\n",
      "fig_dictionary_max.show()\n",
      "\n",
      "fig_neurons_image_original_max = plt.figure(12, FigureClass=neuron_viewer.NeuronViewer)\n",
      "fig_neurons_image_original_max.set_images(neurons_image_original_max)\n",
      "fig_neurons_image_original_max.show()\n",
      "\n",
      "\n",
      "plt.show()"
     ],
     "language": "python",
     "metadata": {},
     "outputs": [],
     "prompt_number": "*"
    },
    {
     "cell_type": "code",
     "collapsed": false,
     "input": [],
     "language": "python",
     "metadata": {},
     "outputs": []
    }
   ],
   "metadata": {}
  }
 ]
}